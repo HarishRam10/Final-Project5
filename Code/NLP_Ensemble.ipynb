{
  "nbformat": 4,
  "nbformat_minor": 0,
  "metadata": {
    "colab": {
      "name": "NLP - Ensemble.ipynb",
      "provenance": [],
      "collapsed_sections": []
    },
    "kernelspec": {
      "name": "python3",
      "display_name": "Python 3"
    },
    "language_info": {
      "name": "python"
    }
  },
  "cells": [
    {
      "cell_type": "markdown",
      "source": [
        "##                  Ensemble with Transformers"
      ],
      "metadata": {
        "id": "h_dOqivm7enQ"
      }
    },
    {
      "cell_type": "markdown",
      "source": [
        "**Connect to Google Drive**"
      ],
      "metadata": {
        "id": "2DBUSv-F6i7z"
      }
    },
    {
      "cell_type": "code",
      "source": [
        "#Connect to Drive\n",
        "from google.colab import drive\n",
        "import sys\n",
        "\n",
        "# Mount Google Drive\n",
        "drive.mount('/content/drive')"
      ],
      "metadata": {
        "id": "Gm5q_79GIAek",
        "colab": {
          "base_uri": "https://localhost:8080/"
        },
        "outputId": "a261bd33-5153-46d4-b226-0ca053d3df44"
      },
      "execution_count": 2,
      "outputs": [
        {
          "output_type": "stream",
          "name": "stdout",
          "text": [
            "Mounted at /content/drive\n"
          ]
        }
      ]
    },
    {
      "cell_type": "markdown",
      "source": [
        "**Load Data**"
      ],
      "metadata": {
        "id": "jHZ5gVRW6n3A"
      }
    },
    {
      "cell_type": "code",
      "metadata": {
        "colab": {
          "base_uri": "https://localhost:8080/"
        },
        "id": "xxT4kgS00fYk",
        "outputId": "aec7a6ce-05cc-4504-fbbe-1727326ab752"
      },
      "source": [
        "#Open Dataset\n",
        "import pandas as pd\n",
        "\n",
        "abspath_curr = '/content/drive/My Drive/NLP_Final_Exam/'\n",
        "cola = pd.read_csv(abspath_curr + 'combined_cola.csv',header=0)\n",
        "sst2 = pd.read_csv(abspath_curr + 'NLP - Ensemble Data - combined_sst2.csv',header=0)\n",
        "wnli = pd.read_csv(abspath_curr + 'NLP - Ensemble Data - combined_wnli.csv',header=0)\n",
        "rte = pd.read_csv(abspath_curr + 'NLP - Ensemble Data - combined_rte.csv',header=0)\n",
        "qnli = pd.read_csv(abspath_curr + 'NLP - Ensemble Data - combined_qnli.csv',header=0)\n",
        "wnli = pd.read_csv(abspath_curr + 'NLP - Ensemble Data - combined_wnli.csv',header=0)\n",
        "mrpc = pd.read_csv(abspath_curr + 'NLP - Ensemble Data - combined_mrpc.csv',header=0)\n",
        "stsb = pd.read_csv(abspath_curr + 'NLP - Ensemble Data - combined_stsb.csv',header=0)\n",
        "qqp = pd.read_csv(abspath_curr + 'NLP - Ensemble Data - combined_qqp.csv',header=0)\n",
        "mnli = pd.read_csv(abspath_curr + 'NLP - Ensemble Data - combined_mnli.csv',header=0)\n",
        "print(cola.head())\n",
        "\n"
      ],
      "execution_count": 5,
      "outputs": [
        {
          "output_type": "stream",
          "name": "stdout",
          "text": [
            "   electra-0  electra-1   xlnet-0   xlnet-1    bert-0    bert-1  target\n",
            "0  -3.015364   2.818316 -2.792709  3.361839 -2.782302  3.292792       1\n",
            "1  -3.272816   3.013487 -3.019989  3.219829 -2.536592  3.144536       1\n",
            "2  -2.484975   2.380282 -1.700235  1.687799 -2.348618  2.650339       1\n",
            "3  -3.138503   2.965038 -2.994277  3.023010 -2.814234  3.324904       1\n",
            "4  -2.365048   2.197786 -2.657328  2.292092  2.783062 -3.252907       0\n"
          ]
        }
      ]
    },
    {
      "cell_type": "markdown",
      "source": [
        "**Ensemble Functions (Logistic Regression and RandomForestClassifier)**"
      ],
      "metadata": {
        "id": "rSpPPOOz6vV1"
      }
    },
    {
      "cell_type": "code",
      "metadata": {
        "id": "Whnx-08r-w9f"
      },
      "source": [
        "#Import sklearn libraries\n",
        "from sklearn.model_selection import train_test_split\n",
        "from sklearn.linear_model import LogisticRegression\n",
        "from sklearn.metrics import classification_report\n",
        "from sklearn.ensemble import RandomForestClassifier\n",
        "from sklearn.datasets import make_classification\n",
        "from sklearn.metrics import matthews_corrcoef\n",
        "from sklearn.metrics import accuracy_score\n",
        "from sklearn.metrics import f1_score\n",
        "from sklearn.linear_model import LinearRegression\n",
        "\n",
        "#logistic regression function to train and make predictions\n",
        "def LR(data): \n",
        "\n",
        "  X_train, X_test, y_train, y_test = train_test_split(data.drop('target',axis=1), \n",
        "                                                      data['target'], test_size=0.20,random_state=2000) \n",
        "  model = LogisticRegression(solver='liblinear', random_state=0).fit(X_train, y_train)\n",
        "  pred = model.predict(X_test)\n",
        "  return pred, y_test\n",
        "\n",
        "#RandomForestClassifer function to train and make predictions\n",
        "def RFC(data):\n",
        "  \n",
        "  X_train, X_test, y_train, y_test = train_test_split(data.drop('target',axis=1), \n",
        "                                                      data['target'], test_size=0.20,random_state=2000) \n",
        "  clf = RandomForestClassifier(max_depth=2, random_state=0).fit(X_train, y_train)\n",
        "  pred_clf = clf.predict(X_test)\n",
        "  return pred_clf, y_test\n",
        "\n",
        "\n",
        "def LinReg(data):\n",
        "\n",
        "  X_train, X_test, y_train, y_test = train_test_split(data.drop('target',axis=1), \n",
        "                                                      data['target'], test_size=0.20,random_state=2000) \n",
        "  model = LinearRegression().fit(X_train, y_train)\n",
        "  pred = model.predict(X_test)\n",
        "  return pred, y_test\n"
      ],
      "execution_count": 6,
      "outputs": []
    },
    {
      "cell_type": "markdown",
      "source": [
        "**Ensemble for CoLA (Corpus of Linguistic Acceptability) using:**\n",
        "\n",
        "Metric - Matthew's Correlation Coefficient\n",
        "\n",
        "*   ELECTRA (google/electra discriminator) - Metric: 0.67738\n",
        "*   XLNet (xlnet-base-cased) - Metric: 0.4676\n",
        "*   BERT (bert-base-cased) - Metric: 0.5955\n",
        "\n",
        "*Ensemble Metric:* 0.7404\n",
        "\n",
        "\n",
        "\n",
        "\n",
        "\n"
      ],
      "metadata": {
        "id": "Ym4tE3_4665R"
      }
    },
    {
      "cell_type": "code",
      "metadata": {
        "colab": {
          "base_uri": "https://localhost:8080/"
        },
        "id": "jAI5WYkwASHR",
        "outputId": "68fd932a-7709-4e7c-b7b1-ce090b064676"
      },
      "source": [
        "#CoLA Classification Report using Logistic Regression\n",
        "lr_cola_pred, lr_cola_y_test = LR(cola)\n",
        "print(classification_report(lr_cola_y_test,lr_cola_pred))"
      ],
      "execution_count": 7,
      "outputs": [
        {
          "output_type": "stream",
          "name": "stdout",
          "text": [
            "              precision    recall  f1-score   support\n",
            "\n",
            "           0       0.82      0.78      0.80        60\n",
            "           1       0.91      0.93      0.92       149\n",
            "\n",
            "    accuracy                           0.89       209\n",
            "   macro avg       0.87      0.86      0.86       209\n",
            "weighted avg       0.89      0.89      0.89       209\n",
            "\n"
          ]
        }
      ]
    },
    {
      "cell_type": "code",
      "metadata": {
        "colab": {
          "base_uri": "https://localhost:8080/"
        },
        "id": "3_-FR_AaBH-9",
        "outputId": "1d5281e9-7fc2-4979-cfad-0e4ab971c12d"
      },
      "source": [
        "#CoLA Mathew's Correlation Coefficient using Logistic Regression Predictions \n",
        "print(f\"Using Logistic Regression Ensemble: \\n\\nMatthew's Correlation Coefficient: {matthews_corrcoef(lr_cola_pred, lr_cola_y_test)}\")"
      ],
      "execution_count": 8,
      "outputs": [
        {
          "output_type": "stream",
          "name": "stdout",
          "text": [
            "Using Logistic Regression Ensemble: \n",
            "\n",
            "Matthew's Correlation Coefficient: 0.7275377298784709\n"
          ]
        }
      ]
    },
    {
      "cell_type": "code",
      "metadata": {
        "colab": {
          "base_uri": "https://localhost:8080/"
        },
        "id": "MPTDJ5ktHqj-",
        "outputId": "be4069a8-8111-49bf-c634-163ec834d5b2"
      },
      "source": [
        "#CoLA Classification Report using RandomForestClassifier\n",
        "rfc_cola_pred, rfc_cola_y_test = RFC(cola) \n",
        "print(classification_report(rfc_cola_y_test, rfc_cola_pred))"
      ],
      "execution_count": 9,
      "outputs": [
        {
          "output_type": "stream",
          "name": "stdout",
          "text": [
            "              precision    recall  f1-score   support\n",
            "\n",
            "           0       0.83      0.80      0.81        60\n",
            "           1       0.92      0.93      0.93       149\n",
            "\n",
            "    accuracy                           0.89       209\n",
            "   macro avg       0.87      0.87      0.87       209\n",
            "weighted avg       0.89      0.89      0.89       209\n",
            "\n"
          ]
        }
      ]
    },
    {
      "cell_type": "code",
      "metadata": {
        "colab": {
          "base_uri": "https://localhost:8080/"
        },
        "id": "peFSRMH1Hz0K",
        "outputId": "037d15b7-05ff-4684-8308-4cc86675be26"
      },
      "source": [
        "#CoLA Mathew's Correlation Coefficient using RandomForestClassifier Predictions \n",
        "print(f\"Using RandomForestClassifer Ensemble: \\n\\nMatthew's Correlation Coefficient: {matthews_corrcoef(rfc_cola_pred, rfc_cola_y_test)}\")"
      ],
      "execution_count": 10,
      "outputs": [
        {
          "output_type": "stream",
          "name": "stdout",
          "text": [
            "Using RandomForestClassifer Ensemble: \n",
            "\n",
            "Matthew's Correlation Coefficient: 0.7404618008434444\n"
          ]
        }
      ]
    },
    {
      "cell_type": "markdown",
      "source": [
        "**Ensemble for SST-2 (Stanford Sentiment Treebank) using:**\n",
        "\n",
        "Metric - Accuracy Score\n",
        "\n",
        "*   ELECTRA (google/electra discriminator) - Metric: 0.9495\n",
        "*   XLNet (xlnet-base-cased) - Metric: 0.9380\n",
        "*   BERT (bert-base-cased) - Metric: 0.9220\n",
        "\n",
        "*Ensemble Score:* 0.9485\n"
      ],
      "metadata": {
        "id": "Y4kkNH7P8--V"
      }
    },
    {
      "cell_type": "code",
      "source": [
        "#SST2 Classification Report using Logistic Regression\n",
        "lr_sst2_pred, lr_sst2_y_test = LR(sst2) \n",
        "print(classification_report(lr_sst2_y_test, lr_sst2_pred))"
      ],
      "metadata": {
        "colab": {
          "base_uri": "https://localhost:8080/"
        },
        "id": "yP0v2g6iCJTg",
        "outputId": "62c189de-9529-4c63-f050-cbef4142d70c"
      },
      "execution_count": 11,
      "outputs": [
        {
          "output_type": "stream",
          "name": "stdout",
          "text": [
            "              precision    recall  f1-score   support\n",
            "\n",
            "           0       0.95      0.94      0.95        88\n",
            "           1       0.94      0.95      0.95        87\n",
            "\n",
            "    accuracy                           0.95       175\n",
            "   macro avg       0.95      0.95      0.95       175\n",
            "weighted avg       0.95      0.95      0.95       175\n",
            "\n"
          ]
        }
      ]
    },
    {
      "cell_type": "code",
      "source": [
        "#SST2 Accuracy Score using Logistic Regression Predictions\n",
        "print(f\"Using Logistic Regression Ensemble: \\n\\nAccuracy Score: {accuracy_score(lr_sst2_y_test, lr_sst2_pred)}\")"
      ],
      "metadata": {
        "colab": {
          "base_uri": "https://localhost:8080/"
        },
        "id": "NfWzCLDWgrzK",
        "outputId": "50d0567f-0294-415a-97b9-2ddb8f974cbf"
      },
      "execution_count": 12,
      "outputs": [
        {
          "output_type": "stream",
          "name": "stdout",
          "text": [
            "Using Logistic Regression Ensemble: \n",
            "\n",
            "Accuracy Score: 0.9485714285714286\n"
          ]
        }
      ]
    },
    {
      "cell_type": "code",
      "source": [
        "#SST2 Classification Report using RandomForestClassificatier Predictions \n",
        "rfc_sst2_pred, rfc_sst2_y_test = RFC(sst2) \n",
        "print(classification_report(rfc_sst2_y_test, rfc_sst2_pred))"
      ],
      "metadata": {
        "colab": {
          "base_uri": "https://localhost:8080/"
        },
        "id": "mY345U9tC0pz",
        "outputId": "e8b0cfbc-020f-4fd9-a44c-99dc0ec788a5"
      },
      "execution_count": 13,
      "outputs": [
        {
          "output_type": "stream",
          "name": "stdout",
          "text": [
            "              precision    recall  f1-score   support\n",
            "\n",
            "           0       0.95      0.93      0.94        88\n",
            "           1       0.93      0.95      0.94        87\n",
            "\n",
            "    accuracy                           0.94       175\n",
            "   macro avg       0.94      0.94      0.94       175\n",
            "weighted avg       0.94      0.94      0.94       175\n",
            "\n"
          ]
        }
      ]
    },
    {
      "cell_type": "code",
      "source": [
        "#SST-2 Accuracy Score using Random Forest Classifier\n",
        "print(f\"Using RandomForestClassifier Ensemble: \\n\\nAccuracy Score: {accuracy_score(rfc_sst2_y_test, rfc_sst2_pred)}\")"
      ],
      "metadata": {
        "colab": {
          "base_uri": "https://localhost:8080/"
        },
        "id": "j-3nPhHkg3sO",
        "outputId": "7d458535-8ecf-4ad8-d2c3-af3a2e01bacb"
      },
      "execution_count": 14,
      "outputs": [
        {
          "output_type": "stream",
          "name": "stdout",
          "text": [
            "Using RandomForestClassifier Ensemble: \n",
            "\n",
            "Accuracy Score: 0.9428571428571428\n"
          ]
        }
      ]
    },
    {
      "cell_type": "markdown",
      "source": [
        "**Ensemble for MRPC (Microsoft Research Paraphrase Corpus) using:**\n",
        "\n",
        "Metric - F1/Accuracy\n",
        "\n",
        "*   ELECTRA (google/electra discriminator) - Metric: 0.9145/0.8823\n",
        "*   XLNet (xlnet-base-cased) - Metric: 0.9135/0.8799\n",
        "*   BERT (bert-base-cased) - Metric: 0.9015/0.8602\n",
        "\n",
        "Ensemble Metric: 0.9268/0.9491"
      ],
      "metadata": {
        "id": "YsNp-ctPFDtQ"
      }
    },
    {
      "cell_type": "code",
      "source": [
        "#MRPC Classification Report using Logistic Regression\n",
        "lr_mrpc_pred, lr_mrpc_y_test = LR(mrpc) \n",
        "print(classification_report(lr_mrpc_y_test, lr_mrpc_pred))"
      ],
      "metadata": {
        "id": "AfQ2wQH5C01P",
        "colab": {
          "base_uri": "https://localhost:8080/"
        },
        "outputId": "f96e19c2-81b0-4230-f273-33b846133295"
      },
      "execution_count": 15,
      "outputs": [
        {
          "output_type": "stream",
          "name": "stdout",
          "text": [
            "              precision    recall  f1-score   support\n",
            "\n",
            "           0       0.95      0.80      0.87        25\n",
            "           1       0.92      0.98      0.95        57\n",
            "\n",
            "    accuracy                           0.93        82\n",
            "   macro avg       0.94      0.89      0.91        82\n",
            "weighted avg       0.93      0.93      0.92        82\n",
            "\n"
          ]
        }
      ]
    },
    {
      "cell_type": "code",
      "source": [
        "#MRPC Accuracy/F1 Score using Logistic Regression Predictions\n",
        "lr_mrpc_acc = accuracy_score(lr_mrpc_y_test, lr_mrpc_pred)\n",
        "lr_mrpc_f1 = f1_score(lr_mrpc_y_test, lr_mrpc_pred)\n",
        "print(f\"Using Logistic Regression Predictions: \\n\\nAccuracy Score: {lr_mrpc_acc} \\nF1 Score: {lr_mrpc_f1}\")"
      ],
      "metadata": {
        "colab": {
          "base_uri": "https://localhost:8080/"
        },
        "id": "r2g8u9QoU8WZ",
        "outputId": "ec8eb226-7b31-48ef-f80b-324b2546e930"
      },
      "execution_count": 16,
      "outputs": [
        {
          "output_type": "stream",
          "name": "stdout",
          "text": [
            "Using Logistic Regression Predictions: \n",
            "\n",
            "Accuracy Score: 0.926829268292683 \n",
            "F1 Score: 0.9491525423728813\n"
          ]
        }
      ]
    },
    {
      "cell_type": "code",
      "source": [
        "#MRPC Classification Report using RandomForestClassificatier Predictions \n",
        "rfc_mrpc_pred, rfc_mrpc_y_test = RFC(mrpc) \n",
        "print(classification_report(rfc_mrpc_y_test, rfc_mrpc_pred))"
      ],
      "metadata": {
        "id": "UNMugE9vC04I",
        "colab": {
          "base_uri": "https://localhost:8080/"
        },
        "outputId": "8904433e-7dfe-494d-fe82-651f72ba27d4"
      },
      "execution_count": 36,
      "outputs": [
        {
          "output_type": "stream",
          "name": "stdout",
          "text": [
            "              precision    recall  f1-score   support\n",
            "\n",
            "           0       0.95      0.80      0.87        25\n",
            "           1       0.92      0.98      0.95        57\n",
            "\n",
            "    accuracy                           0.93        82\n",
            "   macro avg       0.94      0.89      0.91        82\n",
            "weighted avg       0.93      0.93      0.92        82\n",
            "\n"
          ]
        }
      ]
    },
    {
      "cell_type": "code",
      "source": [
        "#MRPC Accuracy/F1 Score using RandomForestClassifier Predictions\n",
        "rfc_mrpc_acc = accuracy_score(rfc_mrpc_y_test, rfc_mrpc_pred)\n",
        "rfc_mrpc_f1_score = f1_score(rfc_mrpc_y_test, rfc_mrpc_pred)\n",
        "print(f\"Using RandomForestClassifier Predictions: \\n\\nAccuracy Score: {rfc_mrpc_acc} \\nF1 Score: {rfc_mrpc_f1_score}\")"
      ],
      "metadata": {
        "colab": {
          "base_uri": "https://localhost:8080/"
        },
        "id": "KIPx2TMwVdFJ",
        "outputId": "05ccf10c-9305-4281-ad2d-8ad16a78878e"
      },
      "execution_count": 18,
      "outputs": [
        {
          "output_type": "stream",
          "name": "stdout",
          "text": [
            "Using RandomForestClassifier Predictions: \n",
            "\n",
            "Accuracy Score: 0.926829268292683 \n",
            "F1 Score: 0.9491525423728813\n"
          ]
        }
      ]
    },
    {
      "cell_type": "markdown",
      "source": [
        "**Ensemble for STSB (The Semantic Textual Similarity Benchmark) using:**\n",
        "\n",
        "Metric - Pearson/Spearman Correlation Coefficient\n",
        "\n",
        "*   ELECTRA (google/electra discriminator) - Metric: 0.9074/0.9057\n",
        "*   XLNet (xlnet-base-cased) - Metric: 0.8855/0.8834\n",
        "*   BERT (bert-base-cased) - Metric: 0.8519/0.8513\n",
        "\n",
        "Ensemble Metric: 0.9094/0.9057"
      ],
      "metadata": {
        "id": "UFPs3HMCmKzz"
      }
    },
    {
      "cell_type": "code",
      "source": [
        "from scipy import stats\n",
        "\n",
        "#STSB Pearson-Spearman Correlation Coefficient using Linear Regression\n",
        "linreg_stsb_pred, linreg_stsb_y_test = LinReg(stsb)\n",
        "stats.spearmanr(linreg_stsb_pred, linreg_stsb_y_test)"
      ],
      "metadata": {
        "colab": {
          "base_uri": "https://localhost:8080/"
        },
        "id": "BluFcdRgmLUz",
        "outputId": "506f294f-c67c-438a-dc22-b61ff9a14034"
      },
      "execution_count": 19,
      "outputs": [
        {
          "output_type": "execute_result",
          "data": {
            "text/plain": [
              "SpearmanrResult(correlation=0.9057440226841488, pvalue=4.0624901046367654e-113)"
            ]
          },
          "metadata": {},
          "execution_count": 19
        }
      ]
    },
    {
      "cell_type": "code",
      "source": [
        "#STSB Pearson-Spearman Correlation Coefficient using Linear Regression\n",
        "linreg_stsb_pred, linreg_stsb_y_test = LinReg(stsb)\n",
        "stats.pearsonr(linreg_stsb_pred, linreg_stsb_y_test)"
      ],
      "metadata": {
        "colab": {
          "base_uri": "https://localhost:8080/"
        },
        "id": "u9Du6dmFNYv9",
        "outputId": "aafbc43d-609d-4451-d949-6c3f908a2a91"
      },
      "execution_count": 37,
      "outputs": [
        {
          "output_type": "execute_result",
          "data": {
            "text/plain": [
              "(0.9094435738640109, 1.3850936154113772e-115)"
            ]
          },
          "metadata": {},
          "execution_count": 37
        }
      ]
    },
    {
      "cell_type": "markdown",
      "source": [
        "**Ensemble for QQP (Quora Question Pair) using:**\n",
        "\n",
        "Metric - Accuracy/F1\n",
        "\n",
        "*   ELECTRA (google/electra discriminator) - Metric: 0.9179/0.8906\n",
        "*   XLNet (xlnet-base-cased) - Metric: 0.9099/0.8793\n",
        "*   BERT (bert-base-cased) - Metric: 0.908/0.8758\n",
        "\n",
        "Ensemble Metric: 0.9241/0.9011"
      ],
      "metadata": {
        "id": "Otw30vPKqkS9"
      }
    },
    {
      "cell_type": "code",
      "source": [
        "#QQP Classification Report using Logistic Regression\n",
        "lr_qqp_pred, lr_qqp_y_test = LR(qqp) \n",
        "print(classification_report(lr_qqp_y_test, lr_qqp_pred))"
      ],
      "metadata": {
        "colab": {
          "base_uri": "https://localhost:8080/"
        },
        "id": "YasgN3L5GlVp",
        "outputId": "3579a2d2-ec07-4c6f-b628-6aa20a6c2be4"
      },
      "execution_count": 20,
      "outputs": [
        {
          "output_type": "stream",
          "name": "stdout",
          "text": [
            "              precision    recall  f1-score   support\n",
            "\n",
            "           0       0.94      0.93      0.94      5013\n",
            "           1       0.89      0.91      0.90      3073\n",
            "\n",
            "    accuracy                           0.92      8086\n",
            "   macro avg       0.92      0.92      0.92      8086\n",
            "weighted avg       0.92      0.92      0.92      8086\n",
            "\n"
          ]
        }
      ]
    },
    {
      "cell_type": "code",
      "source": [
        "#QQP Accuracy/F1 Score using Logistic Regression Predictions\n",
        "lr_qqp_acc = accuracy_score(lr_qqp_y_test, lr_qqp_pred)\n",
        "lr_qqp_f1 = f1_score(lr_qqp_y_test, lr_qqp_pred)\n",
        "print(f\"Using Logistic Regression Predictions: \\n\\nAccuracy Score: {lr_qqp_acc} \\nF1 Score: {lr_qqp_f1}\")"
      ],
      "metadata": {
        "colab": {
          "base_uri": "https://localhost:8080/"
        },
        "id": "jHDUk5MiJNYg",
        "outputId": "3112ad78-5c99-46d7-fa59-a16205906a54"
      },
      "execution_count": 21,
      "outputs": [
        {
          "output_type": "stream",
          "name": "stdout",
          "text": [
            "Using Logistic Regression Predictions: \n",
            "\n",
            "Accuracy Score: 0.9241899579520159 \n",
            "F1 Score: 0.9011449766166747\n"
          ]
        }
      ]
    },
    {
      "cell_type": "code",
      "source": [
        "#QQP Classification Report using RandomForestClassificatier Predictions \n",
        "rfc_qqp_pred, rfc_qqp_y_test = RFC(qqp) \n",
        "print(classification_report(rfc_qqp_y_test, rfc_qqp_pred))"
      ],
      "metadata": {
        "colab": {
          "base_uri": "https://localhost:8080/"
        },
        "id": "jQzKp8VXJbrS",
        "outputId": "c85b0068-c7b4-47c9-feb3-4413b7d2d609"
      },
      "execution_count": 38,
      "outputs": [
        {
          "output_type": "stream",
          "name": "stdout",
          "text": [
            "              precision    recall  f1-score   support\n",
            "\n",
            "           0       0.94      0.93      0.94      5013\n",
            "           1       0.89      0.91      0.90      3073\n",
            "\n",
            "    accuracy                           0.92      8086\n",
            "   macro avg       0.92      0.92      0.92      8086\n",
            "weighted avg       0.92      0.92      0.92      8086\n",
            "\n"
          ]
        }
      ]
    },
    {
      "cell_type": "code",
      "source": [
        "#QQP Accuracy/F1 Score using RandomForestClassifier Predictions\n",
        "rfc_qqp_acc = accuracy_score(rfc_qqp_y_test, rfc_qqp_pred)\n",
        "rfc_qqp_f1_score = f1_score(rfc_qqp_y_test, rfc_qqp_pred)\n",
        "print(f\"Using RandomForestClassifier Predictions: \\n\\nAccuracy Score: {rfc_qqp_acc} \\nF1 Score: {rfc_qqp_f1_score}\")"
      ],
      "metadata": {
        "colab": {
          "base_uri": "https://localhost:8080/"
        },
        "id": "E36TxhW9J2cF",
        "outputId": "a2dc5292-432c-41e3-afa5-d726839e6ca4"
      },
      "execution_count": 39,
      "outputs": [
        {
          "output_type": "stream",
          "name": "stdout",
          "text": [
            "Using RandomForestClassifier Predictions: \n",
            "\n",
            "Accuracy Score: 0.9222112292851843 \n",
            "F1 Score: 0.8989882768588405\n"
          ]
        }
      ]
    },
    {
      "cell_type": "markdown",
      "source": [
        "**Ensemble for MNLI (The Multi-Genre Natural Language Inference Corpus) using:**\n",
        "\n",
        "Metric - Accuracy Score\n",
        "\n",
        "*   ELECTRA (google/electra discriminator) - Metric: 0.8867\n",
        "*   XLNet (xlnet-base-cased) - Metric: 0.8646\n",
        "*   BERT (bert-base-cased) - Metric: 0.8436\n",
        "\n",
        "Ensemble Metric: 0.8922"
      ],
      "metadata": {
        "id": "mC2Dn8gGrDvP"
      }
    },
    {
      "cell_type": "code",
      "source": [
        "#MNLI Classification Report using Logistic Regression\n",
        "lr_mnli_pred, lr_mnli_y_test = LR(mnli) \n",
        "print(classification_report(lr_mnli_y_test, lr_mnli_pred))"
      ],
      "metadata": {
        "colab": {
          "base_uri": "https://localhost:8080/"
        },
        "id": "HwdRHnIhK4HP",
        "outputId": "aaf31c09-1ef6-435c-f60d-423770c4d6b1"
      },
      "execution_count": 31,
      "outputs": [
        {
          "output_type": "stream",
          "name": "stdout",
          "text": [
            "              precision    recall  f1-score   support\n",
            "\n",
            "           0       0.90      0.91      0.90       715\n",
            "           1       0.85      0.83      0.84       624\n",
            "           2       0.91      0.92      0.91       628\n",
            "\n",
            "    accuracy                           0.89      1967\n",
            "   macro avg       0.89      0.89      0.89      1967\n",
            "weighted avg       0.89      0.89      0.89      1967\n",
            "\n"
          ]
        }
      ]
    },
    {
      "cell_type": "code",
      "source": [
        "#MNLI Accuracy Score using Logistic Regression\n",
        "lr_mnli_acc = accuracy_score(lr_mnli_y_test, lr_mnli_pred)\n",
        "print(f\"Logistic Regression Ensemble: \\n\\nAccuracy Score: {lr_mnli_acc}\")"
      ],
      "metadata": {
        "colab": {
          "base_uri": "https://localhost:8080/"
        },
        "id": "TqC-eklILCIv",
        "outputId": "5b901460-67ef-4457-b38c-f52dca0603e1"
      },
      "execution_count": 32,
      "outputs": [
        {
          "output_type": "stream",
          "name": "stdout",
          "text": [
            "Logistic Regression Ensemble: \n",
            "\n",
            "Accuracy Score: 0.8861209964412812\n"
          ]
        }
      ]
    },
    {
      "cell_type": "code",
      "source": [
        "#MNLI Classification Report RandomForestClassificatier Predictions \n",
        "rfc_mnli_pred, rfc_mnli_y_test = RFC(mnli) \n",
        "print(classification_report(rfc_mnli_y_test, rfc_mnli_pred))"
      ],
      "metadata": {
        "colab": {
          "base_uri": "https://localhost:8080/"
        },
        "id": "WI1cmmURLHed",
        "outputId": "57c4d5f2-e84a-44f7-c8f8-45f48160cea9"
      },
      "execution_count": 33,
      "outputs": [
        {
          "output_type": "stream",
          "name": "stdout",
          "text": [
            "              precision    recall  f1-score   support\n",
            "\n",
            "           0       0.91      0.90      0.90       715\n",
            "           1       0.85      0.86      0.85       624\n",
            "           2       0.92      0.92      0.92       628\n",
            "\n",
            "    accuracy                           0.89      1967\n",
            "   macro avg       0.89      0.89      0.89      1967\n",
            "weighted avg       0.89      0.89      0.89      1967\n",
            "\n"
          ]
        }
      ]
    },
    {
      "cell_type": "code",
      "source": [
        "#MNLI Accuracy Score using Random Forest Classification\n",
        "rfc_mnli_acc = accuracy_score(rfc_mnli_y_test, rfc_mnli_pred)\n",
        "print(f\"Random Forest Classification Ensemble: \\n\\nAccuracy Score: {rfc_mnli_acc}\")"
      ],
      "metadata": {
        "colab": {
          "base_uri": "https://localhost:8080/"
        },
        "id": "WmnwRw02LQU-",
        "outputId": "0a4cb887-c18b-45fc-a13d-8ddaa6160e3d"
      },
      "execution_count": 34,
      "outputs": [
        {
          "output_type": "stream",
          "name": "stdout",
          "text": [
            "Random Forest Classification Ensemble: \n",
            "\n",
            "Accuracy Score: 0.8922216573462125\n"
          ]
        }
      ]
    },
    {
      "cell_type": "markdown",
      "source": [
        "**Ensemble for QNLI (The Stanford Question Answering Dataset) using:**\n",
        "\n",
        "Metric - Accuracy Score\n",
        "\n",
        "*   ELECTRA (google/electra discriminator) - Score: 0.9303\n",
        "*   XLNet (xlnet-base-cased) - Score: 0.9202\n",
        "*   BERT (bert-base-cased) - Score: 0.9044\n",
        "\n",
        "Ensemble Metric: 0.9396"
      ],
      "metadata": {
        "id": "tseS3fXlII0_"
      }
    },
    {
      "cell_type": "code",
      "source": [
        "#QNLI Classification Report using Logistic Regression\n",
        "lr_qnli_pred, lr_qnli_y_test = LR(qnli) \n",
        "print(classification_report(lr_qnli_y_test, lr_qnli_pred))"
      ],
      "metadata": {
        "id": "mV_NzMNOC07M",
        "colab": {
          "base_uri": "https://localhost:8080/"
        },
        "outputId": "1a376284-9855-4d8d-c245-7d5512a4b9f8"
      },
      "execution_count": 26,
      "outputs": [
        {
          "output_type": "stream",
          "name": "stdout",
          "text": [
            "              precision    recall  f1-score   support\n",
            "\n",
            "           0       0.93      0.95      0.94       529\n",
            "           1       0.95      0.93      0.94       564\n",
            "\n",
            "    accuracy                           0.94      1093\n",
            "   macro avg       0.94      0.94      0.94      1093\n",
            "weighted avg       0.94      0.94      0.94      1093\n",
            "\n"
          ]
        }
      ]
    },
    {
      "cell_type": "code",
      "source": [
        "#QNLI Accuracy Score using Logistic Regression\n",
        "lr_qnli_acc = accuracy_score(lr_qnli_y_test, lr_qnli_pred)\n",
        "print(f\"Logistic Regression Ensemble: \\n\\nAccuracy Score: {lr_qnli_acc}\")"
      ],
      "metadata": {
        "colab": {
          "base_uri": "https://localhost:8080/"
        },
        "id": "g60sRoEV6cAj",
        "outputId": "64736438-8a40-408c-ca48-f9b5c8e19b17"
      },
      "execution_count": 27,
      "outputs": [
        {
          "output_type": "stream",
          "name": "stdout",
          "text": [
            "Logistic Regression Ensemble: \n",
            "\n",
            "Accuracy Score: 0.938700823421775\n"
          ]
        }
      ]
    },
    {
      "cell_type": "code",
      "source": [
        "#QNLI Classification Report RandomForestClassificatier Predictions \n",
        "rfc_qnli_pred, rfc_qnli_y_test = RFC(qnli) \n",
        "print(classification_report(rfc_qnli_y_test, rfc_qnli_pred))"
      ],
      "metadata": {
        "colab": {
          "base_uri": "https://localhost:8080/"
        },
        "id": "tnlrO6rHL860",
        "outputId": "7a5579a8-961f-47b2-857e-e6c99ca29f9c"
      },
      "execution_count": 28,
      "outputs": [
        {
          "output_type": "stream",
          "name": "stdout",
          "text": [
            "              precision    recall  f1-score   support\n",
            "\n",
            "           0       0.93      0.95      0.94       529\n",
            "           1       0.95      0.93      0.94       564\n",
            "\n",
            "    accuracy                           0.94      1093\n",
            "   macro avg       0.94      0.94      0.94      1093\n",
            "weighted avg       0.94      0.94      0.94      1093\n",
            "\n"
          ]
        }
      ]
    },
    {
      "cell_type": "code",
      "source": [
        "#QNLI Accuracy Score using Random Forest Classification\n",
        "rfc_qnli_acc = accuracy_score(rfc_qnli_y_test, rfc_qnli_pred)\n",
        "print(f\"Random Forest Classification Ensemble: \\n\\nAccuracy Score: {rfc_qnli_acc}\")"
      ],
      "metadata": {
        "colab": {
          "base_uri": "https://localhost:8080/"
        },
        "id": "DYlcszxX6xUK",
        "outputId": "6cb62ddc-7f53-49f2-e53d-1fb3ee142a70"
      },
      "execution_count": 29,
      "outputs": [
        {
          "output_type": "stream",
          "name": "stdout",
          "text": [
            "Random Forest Classification Ensemble: \n",
            "\n",
            "Accuracy Score: 0.939615736505032\n"
          ]
        }
      ]
    },
    {
      "cell_type": "markdown",
      "source": [
        "**Ensemble for RTE (The Recognizing Textual Entailment) using:**\n",
        "\n",
        "Metric - Accuracy Score\n",
        "\n",
        "*   ELECTRA (google/electra discriminator) - Metric: 0.8122\n",
        "*   XLNet (xlnet-base-cased) - Metric: 0.6642\n",
        "*   BERT (bert-base-cased) - Metric: 0.5667\n",
        "\n",
        "Ensemble Metric: 0.8392"
      ],
      "metadata": {
        "id": "fYJpSDgDMr0J"
      }
    },
    {
      "cell_type": "code",
      "source": [
        "#RTE Classification Report using Logistic Regression\n",
        "lr_rte_pred, lr_rte_y_test = LR(rte) \n",
        "print(classification_report(lr_rte_y_test, lr_rte_pred))"
      ],
      "metadata": {
        "colab": {
          "base_uri": "https://localhost:8080/"
        },
        "id": "941Mmw7OMrQ2",
        "outputId": "9eae66a7-291e-47d7-8be8-cf6ba64693a8"
      },
      "execution_count": null,
      "outputs": [
        {
          "output_type": "stream",
          "name": "stdout",
          "text": [
            "              precision    recall  f1-score   support\n",
            "\n",
            "           0       0.83      0.80      0.82        25\n",
            "           1       0.84      0.87      0.86        31\n",
            "\n",
            "    accuracy                           0.84        56\n",
            "   macro avg       0.84      0.84      0.84        56\n",
            "weighted avg       0.84      0.84      0.84        56\n",
            "\n"
          ]
        }
      ]
    },
    {
      "cell_type": "code",
      "source": [
        "#RTE Accuracy Score using Logistic Regression\n",
        "print(f\"Logistic Regression Ensemble: \\n\\nAccuracy Score: {accuracy_score(lr_rte_y_test, lr_rte_pred)} \")"
      ],
      "metadata": {
        "colab": {
          "base_uri": "https://localhost:8080/"
        },
        "id": "Z6ecw3Z8pggK",
        "outputId": "fb7e6a80-3c47-4a95-aeb1-e51164c5bba8"
      },
      "execution_count": null,
      "outputs": [
        {
          "output_type": "stream",
          "name": "stdout",
          "text": [
            "Logistic Regression Ensemble: \n",
            "\n",
            "Accuracy Score: 0.8392857142857143 \n"
          ]
        }
      ]
    },
    {
      "cell_type": "code",
      "source": [
        "#RTE Classification Report using RandomForestClassificatier Predictions \n",
        "rfc_rte_pred, rfc_rte_y_test = RFC(rte) \n",
        "print(classification_report(rfc_rte_y_test, rfc_rte_pred))"
      ],
      "metadata": {
        "colab": {
          "base_uri": "https://localhost:8080/"
        },
        "id": "IiPmO8B_Nf0F",
        "outputId": "10720df3-5146-45d2-9cce-78d3e7b0f08f"
      },
      "execution_count": null,
      "outputs": [
        {
          "output_type": "stream",
          "name": "stdout",
          "text": [
            "              precision    recall  f1-score   support\n",
            "\n",
            "           0       0.81      0.84      0.82        25\n",
            "           1       0.87      0.84      0.85        31\n",
            "\n",
            "    accuracy                           0.84        56\n",
            "   macro avg       0.84      0.84      0.84        56\n",
            "weighted avg       0.84      0.84      0.84        56\n",
            "\n"
          ]
        }
      ]
    },
    {
      "cell_type": "code",
      "source": [
        "#RTE Accuracy Score using RandomForestClassifier\n",
        "print(f\"Random Forest Classifier Ensemble: \\n\\nAccuracy Score: {accuracy_score(rfc_rte_y_test, rfc_rte_pred)} \")"
      ],
      "metadata": {
        "colab": {
          "base_uri": "https://localhost:8080/"
        },
        "id": "zfs8Izg3p5W_",
        "outputId": "634baccd-c7ef-4220-f747-c1c734fd83ad"
      },
      "execution_count": null,
      "outputs": [
        {
          "output_type": "stream",
          "name": "stdout",
          "text": [
            "Random Forest Classifier Ensemble: \n",
            "\n",
            "Accuracy Score: 0.8392857142857143 \n"
          ]
        }
      ]
    },
    {
      "cell_type": "markdown",
      "source": [
        "**Ensemble for WNLI (The Winograd Schema Challenge) using:**\n",
        "\n",
        "Metric - Accuracy Score\n",
        "\n",
        "*   ELECTRA (google/electra discriminator) - Metric: 0.56338\n",
        "*   XLNet (xlnet-base-cased) - Metric: 0.5352\n",
        "*   BERT (bert-base-cased) - Metric: 0.56338\n",
        "\n",
        "Ensemble Metric: 0.4666"
      ],
      "metadata": {
        "id": "_59WLP7tQiSl"
      }
    },
    {
      "cell_type": "code",
      "source": [
        "#WNLI Classification Report using Logistic Regression\n",
        "lr_wnli_pred, lr_wnli_y_test = LR(wnli) \n",
        "print(classification_report(lr_wnli_y_test, lr_wnli_pred))"
      ],
      "metadata": {
        "colab": {
          "base_uri": "https://localhost:8080/"
        },
        "id": "SZeeWLmBOj1G",
        "outputId": "de7e54a1-ea69-4e31-b3b5-575611e688d3"
      },
      "execution_count": 40,
      "outputs": [
        {
          "output_type": "stream",
          "name": "stdout",
          "text": [
            "              precision    recall  f1-score   support\n",
            "\n",
            "           0       0.47      1.00      0.64         7\n",
            "           1       0.00      0.00      0.00         8\n",
            "\n",
            "    accuracy                           0.47        15\n",
            "   macro avg       0.23      0.50      0.32        15\n",
            "weighted avg       0.22      0.47      0.30        15\n",
            "\n"
          ]
        },
        {
          "output_type": "stream",
          "name": "stderr",
          "text": [
            "/usr/local/lib/python3.7/dist-packages/sklearn/metrics/_classification.py:1308: UndefinedMetricWarning: Precision and F-score are ill-defined and being set to 0.0 in labels with no predicted samples. Use `zero_division` parameter to control this behavior.\n",
            "  _warn_prf(average, modifier, msg_start, len(result))\n",
            "/usr/local/lib/python3.7/dist-packages/sklearn/metrics/_classification.py:1308: UndefinedMetricWarning: Precision and F-score are ill-defined and being set to 0.0 in labels with no predicted samples. Use `zero_division` parameter to control this behavior.\n",
            "  _warn_prf(average, modifier, msg_start, len(result))\n",
            "/usr/local/lib/python3.7/dist-packages/sklearn/metrics/_classification.py:1308: UndefinedMetricWarning: Precision and F-score are ill-defined and being set to 0.0 in labels with no predicted samples. Use `zero_division` parameter to control this behavior.\n",
            "  _warn_prf(average, modifier, msg_start, len(result))\n"
          ]
        }
      ]
    },
    {
      "cell_type": "code",
      "source": [
        "#WNLI Accuracy Score\n",
        "wnli_lr_accuracy = accuracy_score(lr_wnli_y_test, lr_wnli_pred)\n",
        "print(f\"Accuracy Score: {wnli_lr_accuracy}\")"
      ],
      "metadata": {
        "colab": {
          "base_uri": "https://localhost:8080/"
        },
        "id": "rGdJWIlYSWul",
        "outputId": "110c6ed5-2e7b-4fd3-9666-898ab8afad2d"
      },
      "execution_count": null,
      "outputs": [
        {
          "output_type": "stream",
          "name": "stdout",
          "text": [
            "Accuracy Score: 0.4666666666666667\n"
          ]
        }
      ]
    },
    {
      "cell_type": "code",
      "source": [
        "#WNLI Classification Report using RandomForestClassificatier Predictions \n",
        "rfc_wnli_pred, rfc_wnli_y_test = RFC(wnli) \n",
        "print(classification_report(rfc_wnli_y_test, rfc_wnli_pred))"
      ],
      "metadata": {
        "colab": {
          "base_uri": "https://localhost:8080/"
        },
        "id": "knh1g4CdQdnb",
        "outputId": "1e965477-533b-4b39-f0ad-2772586f3310"
      },
      "execution_count": null,
      "outputs": [
        {
          "output_type": "stream",
          "name": "stdout",
          "text": [
            "              precision    recall  f1-score   support\n",
            "\n",
            "           0       0.46      0.86      0.60         7\n",
            "           1       0.50      0.12      0.20         8\n",
            "\n",
            "    accuracy                           0.47        15\n",
            "   macro avg       0.48      0.49      0.40        15\n",
            "weighted avg       0.48      0.47      0.39        15\n",
            "\n"
          ]
        }
      ]
    },
    {
      "cell_type": "code",
      "source": [
        "#WNLI Accuracy Score\n",
        "wnli_rfc_accuracy = accuracy_score(rfc_wnli_y_test, rfc_wnli_pred)\n",
        "print(f\"Accuracy Score: {wnli_rfc_accuracy}\")"
      ],
      "metadata": {
        "colab": {
          "base_uri": "https://localhost:8080/"
        },
        "id": "G7sikPSDSyCG",
        "outputId": "d780352c-7fb9-4092-f7c6-78d414ceacc1"
      },
      "execution_count": null,
      "outputs": [
        {
          "output_type": "stream",
          "name": "stdout",
          "text": [
            "Accuracy Score: 0.4666666666666667\n"
          ]
        }
      ]
    }
  ]
}