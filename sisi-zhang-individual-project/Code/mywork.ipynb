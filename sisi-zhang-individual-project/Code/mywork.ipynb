{
  "nbformat": 4,
  "nbformat_minor": 0,
  "metadata": {
    "colab": {
      "name": "Sisi_nlp_ensemble_lr.ipynb",
      "provenance": [],
      "collapsed_sections": []
    },
    "kernelspec": {
      "name": "python3",
      "display_name": "Python 3"
    },
    "language_info": {
      "name": "python"
    }
  },
  "cells": [
    {
      "cell_type": "markdown",
      "source": [
        "# Ensembling with different number of models\n",
        "Before ensembling our models, we like to test it out on CoLA dataset to see the score change with the number of models increasing.  \n",
        "We will comapre the score between single models with ensembling models(up to 6 models).\n"
      ],
      "metadata": {
        "id": "T7oxNYZxRtLW"
      }
    },
    {
      "cell_type": "code",
      "metadata": {
        "colab": {
          "base_uri": "https://localhost:8080/"
        },
        "id": "q9eQqjF50Vbb",
        "outputId": "17bd233b-de51-4e5f-ecd0-cae691c6997a"
      },
      "source": [
        "from google.colab import drive\n",
        "import sys\n",
        "\n",
        "# Mount Google Drive\n",
        "drive.mount('/content/drive')"
      ],
      "execution_count": null,
      "outputs": [
        {
          "output_type": "stream",
          "name": "stdout",
          "text": [
            "Drive already mounted at /content/drive; to attempt to forcibly remount, call drive.mount(\"/content/drive\", force_remount=True).\n"
          ]
        }
      ]
    },
    {
      "cell_type": "markdown",
      "source": [
        "We make predictions of CoLA's dev set with 2 electras, 1 xlnet, and 3 berts, total 6 models and add the lable of CoLA's dev set.\n",
        "\n",
        "From Running Trainer.py, we get the score of each model as following:\n",
        "\n",
        "\n",
        "1.   electra-1 : 0.6774\n",
        "2.   electra-2 : 0.6631\n",
        "3.   bert-3 : 0.5981\n",
        "4.   bert-1 : 0.5955\n",
        "5.   bert-2 : 0.5754\n",
        "6.   xlnet : 0.4676\n",
        "\n",
        "We are going to start from ensamble all 6 models then drop one with the lowest score still a single model.\n",
        "\n"
      ],
      "metadata": {
        "id": "WwTXaT1hU8jb"
      }
    },
    {
      "cell_type": "code",
      "metadata": {
        "colab": {
          "base_uri": "https://localhost:8080/",
          "height": 206
        },
        "id": "fAcUcmhBmwHm",
        "outputId": "813842a3-2024-4060-9698-b088ade52b77"
      },
      "source": [
        "# Get the absolute path of the current folder\n",
        "import pandas as pd\n",
        "\n",
        "abspath_curr = '/content/drive/My Drive/NLP_Final_Exam/'\n",
        "df = pd.read_excel(abspath_curr + 'cola.xlsx',header=0)\n",
        "\n",
        "df.head()"
      ],
      "execution_count": null,
      "outputs": [
        {
          "output_type": "execute_result",
          "data": {
            "text/html": [
              "<div>\n",
              "<style scoped>\n",
              "    .dataframe tbody tr th:only-of-type {\n",
              "        vertical-align: middle;\n",
              "    }\n",
              "\n",
              "    .dataframe tbody tr th {\n",
              "        vertical-align: top;\n",
              "    }\n",
              "\n",
              "    .dataframe thead th {\n",
              "        text-align: right;\n",
              "    }\n",
              "</style>\n",
              "<table border=\"1\" class=\"dataframe\">\n",
              "  <thead>\n",
              "    <tr style=\"text-align: right;\">\n",
              "      <th></th>\n",
              "      <th>electra-0</th>\n",
              "      <th>electra-1</th>\n",
              "      <th>electra2-0</th>\n",
              "      <th>electra2-1</th>\n",
              "      <th>xlnet-0</th>\n",
              "      <th>xlnet-1</th>\n",
              "      <th>bert-0</th>\n",
              "      <th>bert-1</th>\n",
              "      <th>bert2-0</th>\n",
              "      <th>bert2-1</th>\n",
              "      <th>bert3-0</th>\n",
              "      <th>bert3-1</th>\n",
              "      <th>target</th>\n",
              "    </tr>\n",
              "  </thead>\n",
              "  <tbody>\n",
              "    <tr>\n",
              "      <th>0</th>\n",
              "      <td>-3.015364</td>\n",
              "      <td>2.818316</td>\n",
              "      <td>-2.163078</td>\n",
              "      <td>2.018426</td>\n",
              "      <td>-2.792709</td>\n",
              "      <td>3.361839</td>\n",
              "      <td>-2.782302</td>\n",
              "      <td>3.292792</td>\n",
              "      <td>-2.141454</td>\n",
              "      <td>1.960070</td>\n",
              "      <td>-2.280861</td>\n",
              "      <td>2.351163</td>\n",
              "      <td>1</td>\n",
              "    </tr>\n",
              "    <tr>\n",
              "      <th>1</th>\n",
              "      <td>-3.272816</td>\n",
              "      <td>3.013487</td>\n",
              "      <td>-2.871374</td>\n",
              "      <td>2.883802</td>\n",
              "      <td>-3.019989</td>\n",
              "      <td>3.219829</td>\n",
              "      <td>-2.536592</td>\n",
              "      <td>3.144536</td>\n",
              "      <td>-2.195974</td>\n",
              "      <td>1.860165</td>\n",
              "      <td>-2.379374</td>\n",
              "      <td>2.406841</td>\n",
              "      <td>1</td>\n",
              "    </tr>\n",
              "    <tr>\n",
              "      <th>2</th>\n",
              "      <td>-2.484975</td>\n",
              "      <td>2.380282</td>\n",
              "      <td>-2.376473</td>\n",
              "      <td>2.256080</td>\n",
              "      <td>-1.700235</td>\n",
              "      <td>1.687799</td>\n",
              "      <td>-2.348618</td>\n",
              "      <td>2.650339</td>\n",
              "      <td>-2.242263</td>\n",
              "      <td>1.838615</td>\n",
              "      <td>-2.820595</td>\n",
              "      <td>2.764201</td>\n",
              "      <td>1</td>\n",
              "    </tr>\n",
              "    <tr>\n",
              "      <th>3</th>\n",
              "      <td>-3.138503</td>\n",
              "      <td>2.965038</td>\n",
              "      <td>-2.718466</td>\n",
              "      <td>2.658213</td>\n",
              "      <td>-2.994277</td>\n",
              "      <td>3.023010</td>\n",
              "      <td>-2.814234</td>\n",
              "      <td>3.324904</td>\n",
              "      <td>-2.432509</td>\n",
              "      <td>1.973530</td>\n",
              "      <td>-2.748433</td>\n",
              "      <td>2.449374</td>\n",
              "      <td>1</td>\n",
              "    </tr>\n",
              "    <tr>\n",
              "      <th>4</th>\n",
              "      <td>-2.365048</td>\n",
              "      <td>2.197786</td>\n",
              "      <td>-0.875185</td>\n",
              "      <td>0.664087</td>\n",
              "      <td>-2.657328</td>\n",
              "      <td>2.292092</td>\n",
              "      <td>2.783062</td>\n",
              "      <td>-3.252907</td>\n",
              "      <td>0.454222</td>\n",
              "      <td>-0.853928</td>\n",
              "      <td>1.091676</td>\n",
              "      <td>-0.697155</td>\n",
              "      <td>0</td>\n",
              "    </tr>\n",
              "  </tbody>\n",
              "</table>\n",
              "</div>"
            ],
            "text/plain": [
              "   electra-0  electra-1  electra2-0  ...   bert3-0   bert3-1  target\n",
              "0  -3.015364   2.818316   -2.163078  ... -2.280861  2.351163       1\n",
              "1  -3.272816   3.013487   -2.871374  ... -2.379374  2.406841       1\n",
              "2  -2.484975   2.380282   -2.376473  ... -2.820595  2.764201       1\n",
              "3  -3.138503   2.965038   -2.718466  ... -2.748433  2.449374       1\n",
              "4  -2.365048   2.197786   -0.875185  ...  1.091676 -0.697155       0\n",
              "\n",
              "[5 rows x 13 columns]"
            ]
          },
          "metadata": {},
          "execution_count": 19
        }
      ]
    },
    {
      "cell_type": "code",
      "source": [
        "from sklearn.model_selection import train_test_split\n",
        "from sklearn.linear_model import LogisticRegression\n",
        "\n",
        "\n",
        "X_train, X_test, y_train, y_test = train_test_split(df.drop('target',axis=1), \n",
        "                                                    df['target'], test_size=0.20,random_state=20000) \n",
        "model = LogisticRegression(solver='liblinear', random_state=20000).fit(X_train, y_train)\n",
        "pred = model.predict(X_test)"
      ],
      "metadata": {
        "id": "FeKeURTJGN1K"
      },
      "execution_count": null,
      "outputs": []
    },
    {
      "cell_type": "code",
      "source": [
        "from sklearn.metrics import classification_report\n",
        "print(classification_report(y_test,pred))"
      ],
      "metadata": {
        "colab": {
          "base_uri": "https://localhost:8080/"
        },
        "id": "zIO9wjvOGS32",
        "outputId": "5a93bb0c-a6d9-4a32-a81d-c79ad84da1fe"
      },
      "execution_count": null,
      "outputs": [
        {
          "output_type": "stream",
          "name": "stdout",
          "text": [
            "              precision    recall  f1-score   support\n",
            "\n",
            "           0       0.92      0.69      0.79        65\n",
            "           1       0.88      0.97      0.92       144\n",
            "\n",
            "    accuracy                           0.89       209\n",
            "   macro avg       0.90      0.83      0.86       209\n",
            "weighted avg       0.89      0.89      0.88       209\n",
            "\n"
          ]
        }
      ]
    },
    {
      "cell_type": "code",
      "source": [
        "from sklearn.metrics import matthews_corrcoef\n",
        "mcc_6 = matthews_corrcoef(pred,y_test)\n",
        "print(mcc_6)"
      ],
      "metadata": {
        "colab": {
          "base_uri": "https://localhost:8080/"
        },
        "id": "kKC-TYmmGZtl",
        "outputId": "d8a748af-62d4-435b-fca8-c3903a31d097"
      },
      "execution_count": null,
      "outputs": [
        {
          "output_type": "stream",
          "name": "stdout",
          "text": [
            "0.7260966431901814\n"
          ]
        }
      ]
    },
    {
      "cell_type": "code",
      "source": [
        "df.drop('xlnet-0',axis=1,inplace=True)\n",
        "df.drop('xlnet-1',axis=1,inplace=True)\n",
        "df.head()"
      ],
      "metadata": {
        "colab": {
          "base_uri": "https://localhost:8080/",
          "height": 206
        },
        "id": "FfeW_Lv2GrvA",
        "outputId": "834a880f-df73-4f75-bb5a-e0537ce8c83f"
      },
      "execution_count": null,
      "outputs": [
        {
          "output_type": "execute_result",
          "data": {
            "text/html": [
              "<div>\n",
              "<style scoped>\n",
              "    .dataframe tbody tr th:only-of-type {\n",
              "        vertical-align: middle;\n",
              "    }\n",
              "\n",
              "    .dataframe tbody tr th {\n",
              "        vertical-align: top;\n",
              "    }\n",
              "\n",
              "    .dataframe thead th {\n",
              "        text-align: right;\n",
              "    }\n",
              "</style>\n",
              "<table border=\"1\" class=\"dataframe\">\n",
              "  <thead>\n",
              "    <tr style=\"text-align: right;\">\n",
              "      <th></th>\n",
              "      <th>electra-0</th>\n",
              "      <th>electra-1</th>\n",
              "      <th>electra2-0</th>\n",
              "      <th>electra2-1</th>\n",
              "      <th>bert-0</th>\n",
              "      <th>bert-1</th>\n",
              "      <th>bert2-0</th>\n",
              "      <th>bert2-1</th>\n",
              "      <th>bert3-0</th>\n",
              "      <th>bert3-1</th>\n",
              "      <th>target</th>\n",
              "    </tr>\n",
              "  </thead>\n",
              "  <tbody>\n",
              "    <tr>\n",
              "      <th>0</th>\n",
              "      <td>-3.015364</td>\n",
              "      <td>2.818316</td>\n",
              "      <td>-2.163078</td>\n",
              "      <td>2.018426</td>\n",
              "      <td>-2.782302</td>\n",
              "      <td>3.292792</td>\n",
              "      <td>-2.141454</td>\n",
              "      <td>1.960070</td>\n",
              "      <td>-2.280861</td>\n",
              "      <td>2.351163</td>\n",
              "      <td>1</td>\n",
              "    </tr>\n",
              "    <tr>\n",
              "      <th>1</th>\n",
              "      <td>-3.272816</td>\n",
              "      <td>3.013487</td>\n",
              "      <td>-2.871374</td>\n",
              "      <td>2.883802</td>\n",
              "      <td>-2.536592</td>\n",
              "      <td>3.144536</td>\n",
              "      <td>-2.195974</td>\n",
              "      <td>1.860165</td>\n",
              "      <td>-2.379374</td>\n",
              "      <td>2.406841</td>\n",
              "      <td>1</td>\n",
              "    </tr>\n",
              "    <tr>\n",
              "      <th>2</th>\n",
              "      <td>-2.484975</td>\n",
              "      <td>2.380282</td>\n",
              "      <td>-2.376473</td>\n",
              "      <td>2.256080</td>\n",
              "      <td>-2.348618</td>\n",
              "      <td>2.650339</td>\n",
              "      <td>-2.242263</td>\n",
              "      <td>1.838615</td>\n",
              "      <td>-2.820595</td>\n",
              "      <td>2.764201</td>\n",
              "      <td>1</td>\n",
              "    </tr>\n",
              "    <tr>\n",
              "      <th>3</th>\n",
              "      <td>-3.138503</td>\n",
              "      <td>2.965038</td>\n",
              "      <td>-2.718466</td>\n",
              "      <td>2.658213</td>\n",
              "      <td>-2.814234</td>\n",
              "      <td>3.324904</td>\n",
              "      <td>-2.432509</td>\n",
              "      <td>1.973530</td>\n",
              "      <td>-2.748433</td>\n",
              "      <td>2.449374</td>\n",
              "      <td>1</td>\n",
              "    </tr>\n",
              "    <tr>\n",
              "      <th>4</th>\n",
              "      <td>-2.365048</td>\n",
              "      <td>2.197786</td>\n",
              "      <td>-0.875185</td>\n",
              "      <td>0.664087</td>\n",
              "      <td>2.783062</td>\n",
              "      <td>-3.252907</td>\n",
              "      <td>0.454222</td>\n",
              "      <td>-0.853928</td>\n",
              "      <td>1.091676</td>\n",
              "      <td>-0.697155</td>\n",
              "      <td>0</td>\n",
              "    </tr>\n",
              "  </tbody>\n",
              "</table>\n",
              "</div>"
            ],
            "text/plain": [
              "   electra-0  electra-1  electra2-0  ...   bert3-0   bert3-1  target\n",
              "0  -3.015364   2.818316   -2.163078  ... -2.280861  2.351163       1\n",
              "1  -3.272816   3.013487   -2.871374  ... -2.379374  2.406841       1\n",
              "2  -2.484975   2.380282   -2.376473  ... -2.820595  2.764201       1\n",
              "3  -3.138503   2.965038   -2.718466  ... -2.748433  2.449374       1\n",
              "4  -2.365048   2.197786   -0.875185  ...  1.091676 -0.697155       0\n",
              "\n",
              "[5 rows x 11 columns]"
            ]
          },
          "metadata": {},
          "execution_count": 25
        }
      ]
    },
    {
      "cell_type": "code",
      "source": [
        "X_train, X_test, y_train, y_test = train_test_split(df.drop('target',axis=1), \n",
        "                                                    df['target'], test_size=0.20,random_state=20000) \n",
        "model = LogisticRegression(solver='liblinear', random_state=20000).fit(X_train, y_train)\n",
        "pred = model.predict(X_test)"
      ],
      "metadata": {
        "id": "RvrlQw4uG6Rl"
      },
      "execution_count": null,
      "outputs": []
    },
    {
      "cell_type": "code",
      "source": [
        "from sklearn.metrics import classification_report\n",
        "print(classification_report(y_test,pred))"
      ],
      "metadata": {
        "colab": {
          "base_uri": "https://localhost:8080/"
        },
        "id": "sznqjq_CHLsm",
        "outputId": "c11e0dac-286b-4228-eaaa-b7f6f4b2ae6a"
      },
      "execution_count": null,
      "outputs": [
        {
          "output_type": "stream",
          "name": "stdout",
          "text": [
            "              precision    recall  f1-score   support\n",
            "\n",
            "           0       0.92      0.69      0.79        65\n",
            "           1       0.88      0.97      0.92       144\n",
            "\n",
            "    accuracy                           0.89       209\n",
            "   macro avg       0.90      0.83      0.86       209\n",
            "weighted avg       0.89      0.89      0.88       209\n",
            "\n"
          ]
        }
      ]
    },
    {
      "cell_type": "code",
      "source": [
        "from sklearn.metrics import matthews_corrcoef\n",
        "mcc_5 = matthews_corrcoef(pred,y_test)\n",
        "print(mcc_5)"
      ],
      "metadata": {
        "colab": {
          "base_uri": "https://localhost:8080/"
        },
        "id": "3Ld8tGw_Ha5l",
        "outputId": "a265481e-6f91-474e-a2c3-bebad3226bae"
      },
      "execution_count": null,
      "outputs": [
        {
          "output_type": "stream",
          "name": "stdout",
          "text": [
            "0.7260966431901814\n"
          ]
        }
      ]
    },
    {
      "cell_type": "code",
      "source": [
        "df.drop('bert2-0',axis=1,inplace=True)\n",
        "df.drop('bert2-1',axis=1,inplace=True)\n",
        "df.head()"
      ],
      "metadata": {
        "colab": {
          "base_uri": "https://localhost:8080/",
          "height": 206
        },
        "id": "KyVqhbjKHqa6",
        "outputId": "73520cb9-82ab-4647-e25c-b4d66283c27c"
      },
      "execution_count": null,
      "outputs": [
        {
          "output_type": "execute_result",
          "data": {
            "text/html": [
              "<div>\n",
              "<style scoped>\n",
              "    .dataframe tbody tr th:only-of-type {\n",
              "        vertical-align: middle;\n",
              "    }\n",
              "\n",
              "    .dataframe tbody tr th {\n",
              "        vertical-align: top;\n",
              "    }\n",
              "\n",
              "    .dataframe thead th {\n",
              "        text-align: right;\n",
              "    }\n",
              "</style>\n",
              "<table border=\"1\" class=\"dataframe\">\n",
              "  <thead>\n",
              "    <tr style=\"text-align: right;\">\n",
              "      <th></th>\n",
              "      <th>electra-0</th>\n",
              "      <th>electra-1</th>\n",
              "      <th>electra2-0</th>\n",
              "      <th>electra2-1</th>\n",
              "      <th>bert-0</th>\n",
              "      <th>bert-1</th>\n",
              "      <th>bert3-0</th>\n",
              "      <th>bert3-1</th>\n",
              "      <th>target</th>\n",
              "    </tr>\n",
              "  </thead>\n",
              "  <tbody>\n",
              "    <tr>\n",
              "      <th>0</th>\n",
              "      <td>-3.015364</td>\n",
              "      <td>2.818316</td>\n",
              "      <td>-2.163078</td>\n",
              "      <td>2.018426</td>\n",
              "      <td>-2.782302</td>\n",
              "      <td>3.292792</td>\n",
              "      <td>-2.280861</td>\n",
              "      <td>2.351163</td>\n",
              "      <td>1</td>\n",
              "    </tr>\n",
              "    <tr>\n",
              "      <th>1</th>\n",
              "      <td>-3.272816</td>\n",
              "      <td>3.013487</td>\n",
              "      <td>-2.871374</td>\n",
              "      <td>2.883802</td>\n",
              "      <td>-2.536592</td>\n",
              "      <td>3.144536</td>\n",
              "      <td>-2.379374</td>\n",
              "      <td>2.406841</td>\n",
              "      <td>1</td>\n",
              "    </tr>\n",
              "    <tr>\n",
              "      <th>2</th>\n",
              "      <td>-2.484975</td>\n",
              "      <td>2.380282</td>\n",
              "      <td>-2.376473</td>\n",
              "      <td>2.256080</td>\n",
              "      <td>-2.348618</td>\n",
              "      <td>2.650339</td>\n",
              "      <td>-2.820595</td>\n",
              "      <td>2.764201</td>\n",
              "      <td>1</td>\n",
              "    </tr>\n",
              "    <tr>\n",
              "      <th>3</th>\n",
              "      <td>-3.138503</td>\n",
              "      <td>2.965038</td>\n",
              "      <td>-2.718466</td>\n",
              "      <td>2.658213</td>\n",
              "      <td>-2.814234</td>\n",
              "      <td>3.324904</td>\n",
              "      <td>-2.748433</td>\n",
              "      <td>2.449374</td>\n",
              "      <td>1</td>\n",
              "    </tr>\n",
              "    <tr>\n",
              "      <th>4</th>\n",
              "      <td>-2.365048</td>\n",
              "      <td>2.197786</td>\n",
              "      <td>-0.875185</td>\n",
              "      <td>0.664087</td>\n",
              "      <td>2.783062</td>\n",
              "      <td>-3.252907</td>\n",
              "      <td>1.091676</td>\n",
              "      <td>-0.697155</td>\n",
              "      <td>0</td>\n",
              "    </tr>\n",
              "  </tbody>\n",
              "</table>\n",
              "</div>"
            ],
            "text/plain": [
              "   electra-0  electra-1  electra2-0  ...   bert3-0   bert3-1  target\n",
              "0  -3.015364   2.818316   -2.163078  ... -2.280861  2.351163       1\n",
              "1  -3.272816   3.013487   -2.871374  ... -2.379374  2.406841       1\n",
              "2  -2.484975   2.380282   -2.376473  ... -2.820595  2.764201       1\n",
              "3  -3.138503   2.965038   -2.718466  ... -2.748433  2.449374       1\n",
              "4  -2.365048   2.197786   -0.875185  ...  1.091676 -0.697155       0\n",
              "\n",
              "[5 rows x 9 columns]"
            ]
          },
          "metadata": {},
          "execution_count": 31
        }
      ]
    },
    {
      "cell_type": "code",
      "source": [
        "from sklearn.model_selection import train_test_split\n",
        "from sklearn.linear_model import LogisticRegression\n",
        "\n",
        "\n",
        "X_train, X_test, y_train, y_test = train_test_split(df.drop('target',axis=1), \n",
        "                                                    df['target'], test_size=0.20,random_state=20000) \n",
        "model = LogisticRegression(solver='liblinear', random_state=20000).fit(X_train, y_train)\n",
        "pred = model.predict(X_test)"
      ],
      "metadata": {
        "id": "0P_EDDACH7PR"
      },
      "execution_count": null,
      "outputs": []
    },
    {
      "cell_type": "code",
      "source": [
        "from sklearn.metrics import classification_report\n",
        "print(classification_report(y_test,pred))"
      ],
      "metadata": {
        "colab": {
          "base_uri": "https://localhost:8080/"
        },
        "id": "c0GsJNJSIBcg",
        "outputId": "62c0e4a4-0f82-4bc9-9448-b93250232b8e"
      },
      "execution_count": null,
      "outputs": [
        {
          "output_type": "stream",
          "name": "stdout",
          "text": [
            "              precision    recall  f1-score   support\n",
            "\n",
            "           0       0.91      0.66      0.77        65\n",
            "           1       0.86      0.97      0.92       144\n",
            "\n",
            "    accuracy                           0.88       209\n",
            "   macro avg       0.89      0.82      0.84       209\n",
            "weighted avg       0.88      0.88      0.87       209\n",
            "\n"
          ]
        }
      ]
    },
    {
      "cell_type": "code",
      "source": [
        "from sklearn.metrics import matthews_corrcoef\n",
        "mcc_4 = matthews_corrcoef(pred,y_test)\n",
        "print(mcc_4)"
      ],
      "metadata": {
        "colab": {
          "base_uri": "https://localhost:8080/"
        },
        "id": "RlDfygfDIBz5",
        "outputId": "4154b206-f349-4361-ddeb-58abae2cc3da"
      },
      "execution_count": null,
      "outputs": [
        {
          "output_type": "stream",
          "name": "stdout",
          "text": [
            "0.7026786880187801\n"
          ]
        }
      ]
    },
    {
      "cell_type": "code",
      "source": [
        "df.drop('bert-0',axis=1,inplace=True)\n",
        "df.drop('bert-1',axis=1,inplace=True)\n",
        "df.head()"
      ],
      "metadata": {
        "colab": {
          "base_uri": "https://localhost:8080/",
          "height": 206
        },
        "id": "sAwktUjEIKXW",
        "outputId": "d163f7c1-f0b3-47b6-bf61-a1b891e679e9"
      },
      "execution_count": null,
      "outputs": [
        {
          "output_type": "execute_result",
          "data": {
            "text/html": [
              "<div>\n",
              "<style scoped>\n",
              "    .dataframe tbody tr th:only-of-type {\n",
              "        vertical-align: middle;\n",
              "    }\n",
              "\n",
              "    .dataframe tbody tr th {\n",
              "        vertical-align: top;\n",
              "    }\n",
              "\n",
              "    .dataframe thead th {\n",
              "        text-align: right;\n",
              "    }\n",
              "</style>\n",
              "<table border=\"1\" class=\"dataframe\">\n",
              "  <thead>\n",
              "    <tr style=\"text-align: right;\">\n",
              "      <th></th>\n",
              "      <th>electra-0</th>\n",
              "      <th>electra-1</th>\n",
              "      <th>electra2-0</th>\n",
              "      <th>electra2-1</th>\n",
              "      <th>bert3-0</th>\n",
              "      <th>bert3-1</th>\n",
              "      <th>target</th>\n",
              "    </tr>\n",
              "  </thead>\n",
              "  <tbody>\n",
              "    <tr>\n",
              "      <th>0</th>\n",
              "      <td>-3.015364</td>\n",
              "      <td>2.818316</td>\n",
              "      <td>-2.163078</td>\n",
              "      <td>2.018426</td>\n",
              "      <td>-2.280861</td>\n",
              "      <td>2.351163</td>\n",
              "      <td>1</td>\n",
              "    </tr>\n",
              "    <tr>\n",
              "      <th>1</th>\n",
              "      <td>-3.272816</td>\n",
              "      <td>3.013487</td>\n",
              "      <td>-2.871374</td>\n",
              "      <td>2.883802</td>\n",
              "      <td>-2.379374</td>\n",
              "      <td>2.406841</td>\n",
              "      <td>1</td>\n",
              "    </tr>\n",
              "    <tr>\n",
              "      <th>2</th>\n",
              "      <td>-2.484975</td>\n",
              "      <td>2.380282</td>\n",
              "      <td>-2.376473</td>\n",
              "      <td>2.256080</td>\n",
              "      <td>-2.820595</td>\n",
              "      <td>2.764201</td>\n",
              "      <td>1</td>\n",
              "    </tr>\n",
              "    <tr>\n",
              "      <th>3</th>\n",
              "      <td>-3.138503</td>\n",
              "      <td>2.965038</td>\n",
              "      <td>-2.718466</td>\n",
              "      <td>2.658213</td>\n",
              "      <td>-2.748433</td>\n",
              "      <td>2.449374</td>\n",
              "      <td>1</td>\n",
              "    </tr>\n",
              "    <tr>\n",
              "      <th>4</th>\n",
              "      <td>-2.365048</td>\n",
              "      <td>2.197786</td>\n",
              "      <td>-0.875185</td>\n",
              "      <td>0.664087</td>\n",
              "      <td>1.091676</td>\n",
              "      <td>-0.697155</td>\n",
              "      <td>0</td>\n",
              "    </tr>\n",
              "  </tbody>\n",
              "</table>\n",
              "</div>"
            ],
            "text/plain": [
              "   electra-0  electra-1  electra2-0  electra2-1   bert3-0   bert3-1  target\n",
              "0  -3.015364   2.818316   -2.163078    2.018426 -2.280861  2.351163       1\n",
              "1  -3.272816   3.013487   -2.871374    2.883802 -2.379374  2.406841       1\n",
              "2  -2.484975   2.380282   -2.376473    2.256080 -2.820595  2.764201       1\n",
              "3  -3.138503   2.965038   -2.718466    2.658213 -2.748433  2.449374       1\n",
              "4  -2.365048   2.197786   -0.875185    0.664087  1.091676 -0.697155       0"
            ]
          },
          "metadata": {},
          "execution_count": 37
        }
      ]
    },
    {
      "cell_type": "code",
      "source": [
        "from sklearn.model_selection import train_test_split\n",
        "from sklearn.linear_model import LogisticRegression\n",
        "\n",
        "\n",
        "X_train, X_test, y_train, y_test = train_test_split(df.drop('target',axis=1), \n",
        "                                                    df['target'], test_size=0.20,random_state=20000) \n",
        "model = LogisticRegression(solver='liblinear', random_state=20000).fit(X_train, y_train)\n",
        "pred = model.predict(X_test)"
      ],
      "metadata": {
        "id": "T6eCHmVfIT9g"
      },
      "execution_count": null,
      "outputs": []
    },
    {
      "cell_type": "code",
      "source": [
        "from sklearn.metrics import classification_report\n",
        "print(classification_report(y_test,pred))"
      ],
      "metadata": {
        "colab": {
          "base_uri": "https://localhost:8080/"
        },
        "id": "Ltw5MUStIcx2",
        "outputId": "ae4330d2-a30a-4eae-b901-60bef772643a"
      },
      "execution_count": null,
      "outputs": [
        {
          "output_type": "stream",
          "name": "stdout",
          "text": [
            "              precision    recall  f1-score   support\n",
            "\n",
            "           0       0.92      0.68      0.78        65\n",
            "           1       0.87      0.97      0.92       144\n",
            "\n",
            "    accuracy                           0.88       209\n",
            "   macro avg       0.89      0.82      0.85       209\n",
            "weighted avg       0.88      0.88      0.87       209\n",
            "\n"
          ]
        }
      ]
    },
    {
      "cell_type": "code",
      "source": [
        "from sklearn.metrics import matthews_corrcoef\n",
        "mcc_3 = matthews_corrcoef(pred,y_test)\n",
        "print(mcc_3)"
      ],
      "metadata": {
        "colab": {
          "base_uri": "https://localhost:8080/"
        },
        "id": "kB2X6_mKIgbc",
        "outputId": "6156efab-b505-4758-b679-772e4d7ed6e4"
      },
      "execution_count": null,
      "outputs": [
        {
          "output_type": "stream",
          "name": "stdout",
          "text": [
            "0.7144079587843236\n"
          ]
        }
      ]
    },
    {
      "cell_type": "code",
      "source": [
        "df.drop('bert3-0',axis=1,inplace=True)\n",
        "df.drop('bert3-1',axis=1,inplace=True)\n",
        "df.head()"
      ],
      "metadata": {
        "colab": {
          "base_uri": "https://localhost:8080/",
          "height": 206
        },
        "id": "UcNjNHCNIk3G",
        "outputId": "9740592d-c24d-4262-f4b7-b67c1a463bd0"
      },
      "execution_count": null,
      "outputs": [
        {
          "output_type": "execute_result",
          "data": {
            "text/html": [
              "<div>\n",
              "<style scoped>\n",
              "    .dataframe tbody tr th:only-of-type {\n",
              "        vertical-align: middle;\n",
              "    }\n",
              "\n",
              "    .dataframe tbody tr th {\n",
              "        vertical-align: top;\n",
              "    }\n",
              "\n",
              "    .dataframe thead th {\n",
              "        text-align: right;\n",
              "    }\n",
              "</style>\n",
              "<table border=\"1\" class=\"dataframe\">\n",
              "  <thead>\n",
              "    <tr style=\"text-align: right;\">\n",
              "      <th></th>\n",
              "      <th>electra-0</th>\n",
              "      <th>electra-1</th>\n",
              "      <th>electra2-0</th>\n",
              "      <th>electra2-1</th>\n",
              "      <th>target</th>\n",
              "    </tr>\n",
              "  </thead>\n",
              "  <tbody>\n",
              "    <tr>\n",
              "      <th>0</th>\n",
              "      <td>-3.015364</td>\n",
              "      <td>2.818316</td>\n",
              "      <td>-2.163078</td>\n",
              "      <td>2.018426</td>\n",
              "      <td>1</td>\n",
              "    </tr>\n",
              "    <tr>\n",
              "      <th>1</th>\n",
              "      <td>-3.272816</td>\n",
              "      <td>3.013487</td>\n",
              "      <td>-2.871374</td>\n",
              "      <td>2.883802</td>\n",
              "      <td>1</td>\n",
              "    </tr>\n",
              "    <tr>\n",
              "      <th>2</th>\n",
              "      <td>-2.484975</td>\n",
              "      <td>2.380282</td>\n",
              "      <td>-2.376473</td>\n",
              "      <td>2.256080</td>\n",
              "      <td>1</td>\n",
              "    </tr>\n",
              "    <tr>\n",
              "      <th>3</th>\n",
              "      <td>-3.138503</td>\n",
              "      <td>2.965038</td>\n",
              "      <td>-2.718466</td>\n",
              "      <td>2.658213</td>\n",
              "      <td>1</td>\n",
              "    </tr>\n",
              "    <tr>\n",
              "      <th>4</th>\n",
              "      <td>-2.365048</td>\n",
              "      <td>2.197786</td>\n",
              "      <td>-0.875185</td>\n",
              "      <td>0.664087</td>\n",
              "      <td>0</td>\n",
              "    </tr>\n",
              "  </tbody>\n",
              "</table>\n",
              "</div>"
            ],
            "text/plain": [
              "   electra-0  electra-1  electra2-0  electra2-1  target\n",
              "0  -3.015364   2.818316   -2.163078    2.018426       1\n",
              "1  -3.272816   3.013487   -2.871374    2.883802       1\n",
              "2  -2.484975   2.380282   -2.376473    2.256080       1\n",
              "3  -3.138503   2.965038   -2.718466    2.658213       1\n",
              "4  -2.365048   2.197786   -0.875185    0.664087       0"
            ]
          },
          "metadata": {},
          "execution_count": 43
        }
      ]
    },
    {
      "cell_type": "code",
      "source": [
        "from sklearn.model_selection import train_test_split\n",
        "from sklearn.linear_model import LogisticRegression\n",
        "\n",
        "\n",
        "X_train, X_test, y_train, y_test = train_test_split(df.drop('target',axis=1), \n",
        "                                                    df['target'], test_size=0.20,random_state=20000) \n",
        "model = LogisticRegression(solver='liblinear', random_state=20000).fit(X_train, y_train)\n",
        "pred = model.predict(X_test)"
      ],
      "metadata": {
        "id": "pmp9CMz6JEFx"
      },
      "execution_count": null,
      "outputs": []
    },
    {
      "cell_type": "code",
      "source": [
        "from sklearn.metrics import classification_report\n",
        "print(classification_report(y_test,pred))"
      ],
      "metadata": {
        "colab": {
          "base_uri": "https://localhost:8080/"
        },
        "id": "Z7UmO7PIJHLo",
        "outputId": "e06ce4b4-d962-42b8-9376-3d5e09b735a4"
      },
      "execution_count": null,
      "outputs": [
        {
          "output_type": "stream",
          "name": "stdout",
          "text": [
            "              precision    recall  f1-score   support\n",
            "\n",
            "           0       0.91      0.66      0.77        65\n",
            "           1       0.86      0.97      0.92       144\n",
            "\n",
            "    accuracy                           0.88       209\n",
            "   macro avg       0.89      0.82      0.84       209\n",
            "weighted avg       0.88      0.88      0.87       209\n",
            "\n"
          ]
        }
      ]
    },
    {
      "cell_type": "code",
      "source": [
        "from sklearn.metrics import matthews_corrcoef\n",
        "mcc_2 = matthews_corrcoef(pred,y_test)\n",
        "print(mcc_2)"
      ],
      "metadata": {
        "colab": {
          "base_uri": "https://localhost:8080/"
        },
        "id": "g_RO9TCmJKKv",
        "outputId": "8169fa98-d024-4f6a-f664-45e6842a3e4b"
      },
      "execution_count": null,
      "outputs": [
        {
          "output_type": "stream",
          "name": "stdout",
          "text": [
            "0.7026786880187801\n"
          ]
        }
      ]
    },
    {
      "cell_type": "code",
      "source": [
        "df.drop('electra2-0',axis=1,inplace=True)\n",
        "df.drop('electra2-1',axis=1,inplace=True)\n",
        "df.head()"
      ],
      "metadata": {
        "colab": {
          "base_uri": "https://localhost:8080/",
          "height": 206
        },
        "id": "ZEM7Ph3zJRLn",
        "outputId": "ddb80c71-0a9c-4b9b-a4c8-efa4508e1c06"
      },
      "execution_count": null,
      "outputs": [
        {
          "output_type": "execute_result",
          "data": {
            "text/html": [
              "<div>\n",
              "<style scoped>\n",
              "    .dataframe tbody tr th:only-of-type {\n",
              "        vertical-align: middle;\n",
              "    }\n",
              "\n",
              "    .dataframe tbody tr th {\n",
              "        vertical-align: top;\n",
              "    }\n",
              "\n",
              "    .dataframe thead th {\n",
              "        text-align: right;\n",
              "    }\n",
              "</style>\n",
              "<table border=\"1\" class=\"dataframe\">\n",
              "  <thead>\n",
              "    <tr style=\"text-align: right;\">\n",
              "      <th></th>\n",
              "      <th>electra-0</th>\n",
              "      <th>electra-1</th>\n",
              "      <th>target</th>\n",
              "    </tr>\n",
              "  </thead>\n",
              "  <tbody>\n",
              "    <tr>\n",
              "      <th>0</th>\n",
              "      <td>-3.015364</td>\n",
              "      <td>2.818316</td>\n",
              "      <td>1</td>\n",
              "    </tr>\n",
              "    <tr>\n",
              "      <th>1</th>\n",
              "      <td>-3.272816</td>\n",
              "      <td>3.013487</td>\n",
              "      <td>1</td>\n",
              "    </tr>\n",
              "    <tr>\n",
              "      <th>2</th>\n",
              "      <td>-2.484975</td>\n",
              "      <td>2.380282</td>\n",
              "      <td>1</td>\n",
              "    </tr>\n",
              "    <tr>\n",
              "      <th>3</th>\n",
              "      <td>-3.138503</td>\n",
              "      <td>2.965038</td>\n",
              "      <td>1</td>\n",
              "    </tr>\n",
              "    <tr>\n",
              "      <th>4</th>\n",
              "      <td>-2.365048</td>\n",
              "      <td>2.197786</td>\n",
              "      <td>0</td>\n",
              "    </tr>\n",
              "  </tbody>\n",
              "</table>\n",
              "</div>"
            ],
            "text/plain": [
              "   electra-0  electra-1  target\n",
              "0  -3.015364   2.818316       1\n",
              "1  -3.272816   3.013487       1\n",
              "2  -2.484975   2.380282       1\n",
              "3  -3.138503   2.965038       1\n",
              "4  -2.365048   2.197786       0"
            ]
          },
          "metadata": {},
          "execution_count": 49
        }
      ]
    },
    {
      "cell_type": "code",
      "source": [
        "from sklearn.model_selection import train_test_split\n",
        "from sklearn.linear_model import LogisticRegression\n",
        "\n",
        "\n",
        "X_train, X_test, y_train, y_test = train_test_split(df.drop('target',axis=1), \n",
        "                                                    df['target'], test_size=0.20,random_state=20000) \n",
        "model = LogisticRegression(solver='liblinear', random_state=20000).fit(X_train, y_train)\n",
        "pred = model.predict(X_test)"
      ],
      "metadata": {
        "id": "Z2CXpMRpKEgV"
      },
      "execution_count": null,
      "outputs": []
    },
    {
      "cell_type": "code",
      "source": [
        "from sklearn.metrics import classification_report\n",
        "print(classification_report(y_test,pred))"
      ],
      "metadata": {
        "colab": {
          "base_uri": "https://localhost:8080/"
        },
        "id": "MN-TLNRhKHWK",
        "outputId": "d9a7ddfa-7b27-478d-f2ef-17e1afa144bb"
      },
      "execution_count": null,
      "outputs": [
        {
          "output_type": "stream",
          "name": "stdout",
          "text": [
            "              precision    recall  f1-score   support\n",
            "\n",
            "           0       0.90      0.66      0.76        65\n",
            "           1       0.86      0.97      0.91       144\n",
            "\n",
            "    accuracy                           0.87       209\n",
            "   macro avg       0.88      0.81      0.84       209\n",
            "weighted avg       0.87      0.87      0.86       209\n",
            "\n"
          ]
        }
      ]
    },
    {
      "cell_type": "code",
      "source": [
        "from sklearn.metrics import matthews_corrcoef\n",
        "mcc_1 = matthews_corrcoef(pred,y_test)\n",
        "print(mcc_1)"
      ],
      "metadata": {
        "colab": {
          "base_uri": "https://localhost:8080/"
        },
        "id": "8nVh7R2XKJvp",
        "outputId": "eee3450f-a99f-461e-e471-575763c09d75"
      },
      "execution_count": null,
      "outputs": [
        {
          "output_type": "stream",
          "name": "stdout",
          "text": [
            "0.6898340181348958\n"
          ]
        }
      ]
    },
    {
      "cell_type": "code",
      "source": [
        "mcc_score = pd.DataFrame({'number_of_models': [1,2,3,4,5,6] ,\n",
        "                         'mcc_scores': [mcc_1,mcc_2,mcc_3,mcc_4,mcc_5,mcc_6]})\n",
        "print(mcc_score)"
      ],
      "metadata": {
        "colab": {
          "base_uri": "https://localhost:8080/"
        },
        "id": "BE-63s6eKM0r",
        "outputId": "a9d4693c-58a5-451b-f5fe-4798725c2fe4"
      },
      "execution_count": null,
      "outputs": [
        {
          "output_type": "stream",
          "name": "stdout",
          "text": [
            "   number_of_models  mcc_scores\n",
            "0                 1    0.689834\n",
            "1                 2    0.702679\n",
            "2                 3    0.714408\n",
            "3                 4    0.702679\n",
            "4                 5    0.726097\n",
            "5                 6    0.726097\n"
          ]
        }
      ]
    },
    {
      "cell_type": "code",
      "source": [
        "from matplotlib import pyplot as plt\n",
        "plt.plot(mcc_score.number_of_models, mcc_score.mcc_scores,\"-\", color=\"c\")\n",
        "plt.plot(mcc_score.number_of_models, mcc_score.mcc_scores,\".\",marker=\"v\",color=\"k\")\n",
        "plt.ylim(0.65, 0.75)\n",
        "plt.ylabel(\"score\")\n",
        "plt.xlabel(\"number of model ensemble \")\n",
        "plt.title(\"Score vs Number of model ensemble for CoLA\")\n",
        "# plt.xscale('log')\n",
        "# ax.set_yscale('log')\n",
        "plt.show()"
      ],
      "metadata": {
        "colab": {
          "base_uri": "https://localhost:8080/",
          "height": 295
        },
        "id": "2QQttxKCRF5g",
        "outputId": "e62cef84-54b2-4942-e0e1-004759d89df4"
      },
      "execution_count": null,
      "outputs": [
        {
          "output_type": "display_data",
          "data": {
            "image/png": "[encoded data removed]",
            "text/plain": [
              "<Figure size 432x288 with 1 Axes>"
            ]
          },
          "metadata": {
            "needs_background": "light"
          }
        }
      ]
    },
    {
      "cell_type": "code",
      "source": [
        ""
      ],
      "metadata": {
        "id": "gbODD8oGafq5"
      },
      "execution_count": null,
      "outputs": []
    }
  ]
}